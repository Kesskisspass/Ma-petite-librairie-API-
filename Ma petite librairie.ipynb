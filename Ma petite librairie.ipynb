{
 "cells": [
  {
   "cell_type": "markdown",
   "metadata": {},
   "source": [
    "# Ma petite librairie"
   ]
  },
  {
   "cell_type": "markdown",
   "metadata": {},
   "source": [
    "- Lister les 10 derniers livres par leur date de publication\n",
    "- Lister le livre écrit par l’auteur « Dr. Kaitlyn Ratke »\n",
    "- Lister tous les commentaires du livre dont l’id est « 1d52ba85-97c8-4cc3-b81a-\n",
    "40582f3aff64 »\n",
    "- Créer un nouveau commentaire avec le texte et la note de votre choix pour le livre\n",
    "dont l’id est « 1b08c9ab-6254-4015-ad14-bac3e5c008df »\n",
    "- Modifier votre nouveau commentaire en utilisant l’id qui vous a été fourni lors de sa\n",
    "création"
   ]
  },
  {
   "cell_type": "markdown",
   "metadata": {},
   "source": [
    "### Lister les 10 derniers livres par leur date de publication"
   ]
  },
  {
   "cell_type": "code",
   "execution_count": 1,
   "metadata": {},
   "outputs": [],
   "source": [
    "import requests"
   ]
  },
  {
   "cell_type": "code",
   "execution_count": 2,
   "metadata": {},
   "outputs": [
    {
     "name": "stdout",
     "output_type": "stream",
     "text": [
      "demotitle publié le :  2020-01-08T00:00:00+00:00\n",
      "sdfs publié le :  2020-01-01T00:00:00+00:00\n",
      "The italian job publié le :  2020-01-01T00:00:00+00:00\n",
      "TestBook123 publié le :  2020-01-01T00:00:00+00:00\n",
      "Est magnam ut nemo. publié le :  2019-12-20T00:00:00+00:00\n",
      "sdf publié le :  2019-12-11T00:00:00+00:00\n",
      "booktes publié le :  2019-12-01T00:00:00+00:00\n",
      "HelloWorld publié le :  2019-03-15T00:00:00+00:00\n",
      "aoskdasodk publié le :  2019-03-03T00:00:00+00:00\n",
      "Alias et similique impedit beatae dolores. publié le :  2019-02-01T00:00:00+00:00\n"
     ]
    }
   ],
   "source": [
    "r = requests.get(\"https://demo.api-platform.com/books?order%5BpublicationDate%5D=desc\")\n",
    "r = r.json()\n",
    "r = r['hydra:member'][:10]\n",
    "for book in r:\n",
    "    print(book['title'],'publié le : ', book['publicationDate'])"
   ]
  },
  {
   "cell_type": "code",
   "execution_count": null,
   "metadata": {},
   "outputs": [],
   "source": []
  },
  {
   "cell_type": "markdown",
   "metadata": {},
   "source": [
    "### Lister le livre écrit par l’auteur « Dr. Kaitlyn Ratke »"
   ]
  },
  {
   "cell_type": "code",
   "execution_count": 3,
   "metadata": {},
   "outputs": [
    {
     "name": "stdout",
     "output_type": "stream",
     "text": [
      "Titre :  Similique aut est dolores.\n"
     ]
    }
   ],
   "source": [
    "payload = {'author':'Dr. Kaitlyn Ratke'}\n",
    "r = requests.get(\"https://demo.api-platform.com/books\", params = payload)\n",
    "r = r.json()\n",
    "r = r[\"hydra:member\"][0]['title']\n",
    "print('Titre : ', r)"
   ]
  },
  {
   "cell_type": "code",
   "execution_count": null,
   "metadata": {},
   "outputs": [],
   "source": []
  },
  {
   "cell_type": "markdown",
   "metadata": {},
   "source": [
    "### Lister tous les commentaires du livre dont l’id est « 1d52ba85-97c8-4cc3-b81a-40582f3aff64 »"
   ]
  },
  {
   "cell_type": "code",
   "execution_count": 4,
   "metadata": {},
   "outputs": [
    {
     "name": "stdout",
     "output_type": "stream",
     "text": [
      "Commentaire :  This is a test  ; Note :  4\n",
      "Commentaire :  Provident vero ullam voluptatem dolores quasi quis. Eum rerum quasi excepturi optio. Beatae esse et ex fuga quis. Quod est aliquid aut.  ; Note :  4\n",
      "Commentaire :  Est provident voluptas quod dolore. Porro sit omnis quis autem minima suscipit sunt. Autem consequatur autem sunt velit eveniet voluptas. Illum ab nobis molestiae accusamus sapiente quia iste.  ; Note :  0\n",
      "Commentaire :  Distinctio veniam ut corporis dolorem ipsum dolores quam blanditiis. Qui ullam ab sunt quisquam voluptatem id. Sed repudiandae esse cupiditate blanditiis corrupti recusandae. Est id nihil temporibus aliquam.  ; Note :  1\n"
     ]
    }
   ],
   "source": [
    "r = requests.get('https://demo.api-platform.com/books/1d52ba85-97c8-4cc3-b81a-40582f3aff64/reviews')\n",
    "r = r.json()['hydra:member']\n",
    "r\n",
    "for review in r:\n",
    "    print('Commentaire : ',review['body'], ' ; Note : ', review['rating'])"
   ]
  },
  {
   "cell_type": "code",
   "execution_count": null,
   "metadata": {},
   "outputs": [],
   "source": []
  },
  {
   "cell_type": "markdown",
   "metadata": {},
   "source": [
    "### Créer un nouveau commentaire avec le texte et la note de votre choix pour le livre dont l’id est « 1b08c9ab-6254-4015-ad14-bac3e5c008df »"
   ]
  },
  {
   "cell_type": "code",
   "execution_count": 5,
   "metadata": {},
   "outputs": [
    {
     "name": "stdout",
     "output_type": "stream",
     "text": [
      "{'@context': '/contexts/Review', '@id': '/reviews/838782bf-5d76-4e9d-9ae2-872136867732', '@type': 'http://schema.org/Review', 'body': 'Lire le Sud-Ouest est plus palpitant que votre livre', 'rating': 1, 'book': {'@id': '/books/1b08c9ab-6254-4015-ad14-bac3e5c008df', '@type': 'http://schema.org/Book', 'title': 'Et sit enim omnis.'}, 'author': 'Jean Neymar', 'publicationDate': '2020-01-09T15:08:52+00:00'}\n"
     ]
    }
   ],
   "source": [
    "import json\n",
    "body = {\n",
    "  \"body\": \"Lire le Sud-Ouest est plus palpitant que votre livre\",\n",
    "  \"rating\": 1,\n",
    "  \"author\": \"Jean Neymar\",\n",
    "  \"publicationDate\": \"2020-01-09T15:08:52.906Z\",\n",
    "  \"book\" :\"/books/1b08c9ab-6254-4015-ad14-bac3e5c008df\"\n",
    "}\n",
    "\n",
    "headers = {'Content-Type': 'application/json'}\n",
    "\n",
    "r = requests.post('https://demo.api-platform.com/reviews', headers=headers, data=json.dumps(body))\n",
    "print(r.json())"
   ]
  },
  {
   "cell_type": "code",
   "execution_count": null,
   "metadata": {},
   "outputs": [],
   "source": []
  },
  {
   "cell_type": "markdown",
   "metadata": {},
   "source": [
    "### Modifier votre nouveau commentaire en utilisant l’id qui vous a été fourni lors de sa création"
   ]
  },
  {
   "cell_type": "code",
   "execution_count": 6,
   "metadata": {},
   "outputs": [
    {
     "name": "stdout",
     "output_type": "stream",
     "text": [
      "id de mon commentaire :  /reviews/838782bf-5d76-4e9d-9ae2-872136867732\n"
     ]
    }
   ],
   "source": [
    "myCommentId = r.json()['@id']\n",
    "print('id de mon commentaire : ',myCommentId)"
   ]
  },
  {
   "cell_type": "code",
   "execution_count": 7,
   "metadata": {},
   "outputs": [
    {
     "name": "stdout",
     "output_type": "stream",
     "text": [
      "Lire le Sud-Ouest est beaucoup plus palpitant que votre livre\n"
     ]
    }
   ],
   "source": [
    "url = f'https://demo.api-platform.com' + myCommentId\n",
    "\n",
    "body = {\"body\": \"Lire le Sud-Ouest est beaucoup plus palpitant que votre livre\"}\n",
    "\n",
    "headers = {'Content-Type': 'application/merge-patch+json'}\n",
    "\n",
    "r = requests.patch(url, headers=headers, data=json.dumps(body))\n",
    "print(r.json()['body'])"
   ]
  },
  {
   "cell_type": "code",
   "execution_count": null,
   "metadata": {},
   "outputs": [],
   "source": []
  }
 ],
 "metadata": {
  "kernelspec": {
   "display_name": "Python 3",
   "language": "python",
   "name": "python3"
  },
  "language_info": {
   "codemirror_mode": {
    "name": "ipython",
    "version": 3
   },
   "file_extension": ".py",
   "mimetype": "text/x-python",
   "name": "python",
   "nbconvert_exporter": "python",
   "pygments_lexer": "ipython3",
   "version": "3.7.6"
  }
 },
 "nbformat": 4,
 "nbformat_minor": 2
}
